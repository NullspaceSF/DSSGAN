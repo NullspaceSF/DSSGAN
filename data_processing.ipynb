{
 "cells": [
  {
   "cell_type": "code",
   "execution_count": 1,
   "metadata": {},
   "outputs": [
    {
     "name": "stderr",
     "output_type": "stream",
     "text": [
      "/home/ubuntu/anaconda3/envs/tensorflow_p27/lib/python2.7/site-packages/h5py/__init__.py:36: FutureWarning: Conversion of the second argument of issubdtype from `float` to `np.floating` is deprecated. In future, it will be treated as `np.float64 == np.dtype(float).type`.\n",
      "  from ._conv import register_converters as _register_converters\n"
     ]
    }
   ],
   "source": [
    "import os.path\n",
    "import glob\n",
    "import Input.Input\n",
    "from Sample import Sample\n",
    "import cPickle as pickle\n",
    "import subprocess\n",
    "import os\n",
    "import shutil"
   ]
  },
  {
   "cell_type": "code",
   "execution_count": 2,
   "metadata": {},
   "outputs": [
    {
     "ename": "SyntaxError",
     "evalue": "invalid syntax (<ipython-input-2-d32c73c38295>, line 6)",
     "output_type": "error",
     "traceback": [
      "\u001b[0;36m  File \u001b[0;32m\"<ipython-input-2-d32c73c38295>\"\u001b[0;36m, line \u001b[0;32m6\u001b[0m\n\u001b[0;31m    path = # '~/data/nistems/acc'\u001b[0m\n\u001b[0m                                 ^\u001b[0m\n\u001b[0;31mSyntaxError\u001b[0m\u001b[0;31m:\u001b[0m invalid syntax\n"
     ]
    }
   ],
   "source": [
    "# script for converting native instuments stem format mp4 files into wavs using stem2wav\n",
    "# creates a directory for each filename and places the 5 separated wav files in directory\n",
    "# requires stempeg ---> 'pip install stempeg'\n",
    "\n",
    "\n",
    "path = path = os.path.join(os.getcwd(), 'data')\n",
    "files = [name for name in glob.glob(path + '/*')]\n",
    "print(files)\n",
    "for file in files:\n",
    "    newdir = file[31:-9]\n",
    "    print(newdir)\n",
    "    newpath = path + newdir + file[31:]\n",
    "    print(newpath)\n",
    "    if not os.path.exists(path + newdir):\n",
    "        os.makedirs(path + newdir)\n",
    "        subprocess.call('stem2wav ' + file + ' ' + path + newdir, shell=True)"
   ]
  },
  {
   "cell_type": "code",
   "execution_count": null,
   "metadata": {},
   "outputs": [],
   "source": [
    "\n",
    "# Mixes together accompaniment of a stem track into acc.wav for unsup_acc use from original\n",
    "# NI Stems processed with stem2wav and renamed to mix.wav, drums.wav, acc1.wav, acc2.wav, acc3.wav\n",
    "# SETUP: each track must have a directory containing all five wav files as subdirectories of path\n",
    "# named as above\n",
    "# old acc files and the drums and mix files are removed if successful\n",
    "# requires ffmpeg\n",
    "\n",
    "path = path = os.path.join(os.getcwd(), 'data')\n",
    "folders = [name for name in glob.glob(path + '/*')]\n",
    "print(files)\n",
    "for folder in folders:\n",
    "    fullpath = path + folder\n",
    "    subprocess.call(\n",
    "        'ffmpeg -i ' + folder + '/acc1.wav -i ' + folder + '/acc2.wav -i ' + folder + \\\n",
    "        '/acc3.wav -filter_complex amix=inputs=3:duration=longest -ac 2 ' + folder + '/acc.wav', shell=True)\n",
    "    if os.path.exists(folder + '/acc.wav'):\n",
    "        subprocess.call('rm ' + folder + '/acc1.wav ' + folder + '/acc2.wav ' + folder + '/acc3.wav ' \\\n",
    "                        + folder + '/drums.wav ' + folder + '/mix.wav', shell=True)\n",
    "    else:\n",
    "        print('File acc.wav was not created in ' + path)\n",
    "\n",
    "    \n",
    "    "
   ]
  },
  {
   "cell_type": "code",
   "execution_count": null,
   "metadata": {},
   "outputs": [],
   "source": [
    "\n",
    "# process nistems for sup\n",
    "# Mixes together accompaniment of a stem track into drums, mix, and acc from original\n",
    "# NI Stems processed with stem2wav and renamed to mix.wav, drums.wav, acc1.wav, acc2.wav, acc3.wav\n",
    "# SETUP: each track must have a directory containing all five wav files as subdirectories of path\n",
    "# named as above\n",
    "# old files are removed if successful\n",
    "# requires ffmpeg\n",
    "\n",
    "path = path = os.path.join(os.getcwd(), 'data')      #data/musdb18/test'\n",
    "folders = [name for name in glob.glob(path + '/*')]\n",
    "print(folders)\n",
    "for folder in folders:\n",
    "    print(folder)\n",
    "    # folder = folder.replace(\" \", \"\\\\ \")  # use for spaces in path\n",
    "    subprocess.call(\n",
    "        'ffmpeg -i ' + folder + '/acc1.wav -i ' + folder + '/acc2.wav -i ' + folder + \\\n",
    "        '/acc3.wav -filter_complex amix=inputs=3:duration=longest -ac 2 ' + folder + '/acc.wav', shell=True)\n",
    "    if os.path.exists(folder + '/acc.wav'):\n",
    "        subprocess.call('rm ' + folder + '/acc1.wav ' + folder + '/acc2.wav ' + folder + '/acc3.wav', shell=True)\n",
    "    else:\n",
    "        print('File acc.wav was not created in ' + path)\n",
    "\n",
    "    "
   ]
  },
  {
   "cell_type": "code",
   "execution_count": 24,
   "metadata": {},
   "outputs": [],
   "source": [
    "#get list of paths to wav files. musdb18 DB must already be converted using MUSDB docker tool\n",
    "# data should be in this format:\n",
    "# ├── test     # one folder for each track with 3 files mix.wav, drums.wav, and acc.wav\n",
    "# ├── train    # one folder for each track with 3 files mix.wav, drums.wav, and acc.wav\n",
    "# ├── valid    # one folder for each track with 3 files mix.wav, drums.wav, and acc.wav\n",
    "# └── train_unsup   # three folders unsup_acc, unsup_drums, unsup_mix. each with numbered\n",
    "                    # files, ex. acc_1.wav, mix_34.wav, ect in the respective folders\n",
    "\n",
    "path = os.path.join(os.getcwd(), 'data')\n",
    "train_paths = [name for name in glob.glob(path + '/train/*')]\n",
    "test_paths = [name for name in glob.glob(path + '/test/*')]\n",
    "valid_paths = [name for name in glob.glob(path + '/valid/*')]\n",
    "unsup_drums_paths = [name for name in glob.glob(path + '/train_unsup/unsup_drums/*')]\n",
    "unsup_mix_paths = [name for name in glob.glob(path + '/train_unsup/unsup_mix/*')]\n",
    "unsup_acc_paths = [name for name in glob.glob(path + '/train_unsup/unsup_acc/*')]\n"
   ]
  },
  {
   "cell_type": "code",
   "execution_count": 25,
   "metadata": {},
   "outputs": [],
   "source": [
    "dataset = dict()\n",
    "dataset[\"train_sup\"] = [] # [list of tuples containing sample oblects (mix, acc, drums)]\n",
    "dataset[\"train_unsup\"] = [] # Initialise unsupervised dataset [[mix_samples], [acc_samples], [drums]]\n",
    "dataset[\"valid\"] = [] # list of tuples containing sample oblects (mix, acc, drums)\n",
    "dataset[\"test\"] = [] # list of tuples containing sample oblects (mix, acc, drums)"
   ]
  },
  {
   "cell_type": "code",
   "execution_count": 28,
   "metadata": {},
   "outputs": [
    {
     "data": {
      "text/plain": [
       "['/home/ubuntu/DSSGAN/data/train_unsup/unsup_mix/mix_80.wav',\n",
       " '/home/ubuntu/DSSGAN/data/train_unsup/unsup_mix/mix_134.wav',\n",
       " '/home/ubuntu/DSSGAN/data/train_unsup/unsup_mix/mix_5.wav',\n",
       " '/home/ubuntu/DSSGAN/data/train_unsup/unsup_mix/mix_52.wav',\n",
       " '/home/ubuntu/DSSGAN/data/train_unsup/unsup_mix/mix_117.wav',\n",
       " '/home/ubuntu/DSSGAN/data/train_unsup/unsup_mix/mix_124.wav',\n",
       " '/home/ubuntu/DSSGAN/data/train_unsup/unsup_mix/mix_146.wav',\n",
       " '/home/ubuntu/DSSGAN/data/train_unsup/unsup_mix/mix_46.wav',\n",
       " '/home/ubuntu/DSSGAN/data/train_unsup/unsup_mix/mix_115.wav',\n",
       " '/home/ubuntu/DSSGAN/data/train_unsup/unsup_mix/mix_40.wav',\n",
       " '/home/ubuntu/DSSGAN/data/train_unsup/unsup_mix/mix_137.wav',\n",
       " '/home/ubuntu/DSSGAN/data/train_unsup/unsup_mix/mix_163.wav',\n",
       " '/home/ubuntu/DSSGAN/data/train_unsup/unsup_mix/mix_9.wav',\n",
       " '/home/ubuntu/DSSGAN/data/train_unsup/unsup_mix/mix_172.wav',\n",
       " '/home/ubuntu/DSSGAN/data/train_unsup/unsup_mix/mix_157.wav',\n",
       " '/home/ubuntu/DSSGAN/data/train_unsup/unsup_mix/mix_155.wav',\n",
       " '/home/ubuntu/DSSGAN/data/train_unsup/unsup_mix/mix_58.wav',\n",
       " '/home/ubuntu/DSSGAN/data/train_unsup/unsup_mix/mix_36.wav',\n",
       " '/home/ubuntu/DSSGAN/data/train_unsup/unsup_mix/mix_20.wav',\n",
       " '/home/ubuntu/DSSGAN/data/train_unsup/unsup_mix/mix_170.wav',\n",
       " '/home/ubuntu/DSSGAN/data/train_unsup/unsup_mix/mix_141.wav',\n",
       " '/home/ubuntu/DSSGAN/data/train_unsup/unsup_mix/mix_23.wav',\n",
       " '/home/ubuntu/DSSGAN/data/train_unsup/unsup_mix/mix_154.wav',\n",
       " '/home/ubuntu/DSSGAN/data/train_unsup/unsup_mix/mix_72.wav',\n",
       " '/home/ubuntu/DSSGAN/data/train_unsup/unsup_mix/mix_106.wav',\n",
       " '/home/ubuntu/DSSGAN/data/train_unsup/unsup_mix/mix_66.wav',\n",
       " '/home/ubuntu/DSSGAN/data/train_unsup/unsup_mix/mix_94.wav',\n",
       " '/home/ubuntu/DSSGAN/data/train_unsup/unsup_mix/mix_79.wav',\n",
       " '/home/ubuntu/DSSGAN/data/train_unsup/unsup_mix/mix_100.wav',\n",
       " '/home/ubuntu/DSSGAN/data/train_unsup/unsup_mix/mix_62.wav',\n",
       " '/home/ubuntu/DSSGAN/data/train_unsup/unsup_mix/mix_59.wav',\n",
       " '/home/ubuntu/DSSGAN/data/train_unsup/unsup_mix/mix_90.wav',\n",
       " '/home/ubuntu/DSSGAN/data/train_unsup/unsup_mix/mix_93.wav',\n",
       " '/home/ubuntu/DSSGAN/data/train_unsup/unsup_mix/mix_22.wav',\n",
       " '/home/ubuntu/DSSGAN/data/train_unsup/unsup_mix/mix_139.wav',\n",
       " '/home/ubuntu/DSSGAN/data/train_unsup/unsup_mix/mix_61.wav',\n",
       " '/home/ubuntu/DSSGAN/data/train_unsup/unsup_mix/mix_95.wav',\n",
       " '/home/ubuntu/DSSGAN/data/train_unsup/unsup_mix/mix_85.wav',\n",
       " '/home/ubuntu/DSSGAN/data/train_unsup/unsup_mix/mix_118.wav',\n",
       " '/home/ubuntu/DSSGAN/data/train_unsup/unsup_mix/mix_119.wav',\n",
       " '/home/ubuntu/DSSGAN/data/train_unsup/unsup_mix/mix_87.wav',\n",
       " '/home/ubuntu/DSSGAN/data/train_unsup/unsup_mix/mix_24.wav',\n",
       " '/home/ubuntu/DSSGAN/data/train_unsup/unsup_mix/mix_56.wav',\n",
       " '/home/ubuntu/DSSGAN/data/train_unsup/unsup_mix/mix_68.wav',\n",
       " '/home/ubuntu/DSSGAN/data/train_unsup/unsup_mix/mix_65.wav',\n",
       " '/home/ubuntu/DSSGAN/data/train_unsup/unsup_mix/mix_99.wav',\n",
       " '/home/ubuntu/DSSGAN/data/train_unsup/unsup_mix/mix_138.wav',\n",
       " '/home/ubuntu/DSSGAN/data/train_unsup/unsup_mix/mix_84.wav',\n",
       " '/home/ubuntu/DSSGAN/data/train_unsup/unsup_mix/mix_122.wav',\n",
       " '/home/ubuntu/DSSGAN/data/train_unsup/unsup_mix/mix_150.wav',\n",
       " '/home/ubuntu/DSSGAN/data/train_unsup/unsup_mix/mix_53.wav',\n",
       " '/home/ubuntu/DSSGAN/data/train_unsup/unsup_mix/mix_51.wav',\n",
       " '/home/ubuntu/DSSGAN/data/train_unsup/unsup_mix/mix_37.wav',\n",
       " '/home/ubuntu/DSSGAN/data/train_unsup/unsup_mix/mix_149.wav',\n",
       " '/home/ubuntu/DSSGAN/data/train_unsup/unsup_mix/mix_4.wav',\n",
       " '/home/ubuntu/DSSGAN/data/train_unsup/unsup_mix/mix_112.wav',\n",
       " '/home/ubuntu/DSSGAN/data/train_unsup/unsup_mix/mix_127.wav',\n",
       " '/home/ubuntu/DSSGAN/data/train_unsup/unsup_mix/mix_144.wav',\n",
       " '/home/ubuntu/DSSGAN/data/train_unsup/unsup_mix/mix_47.wav',\n",
       " '/home/ubuntu/DSSGAN/data/train_unsup/unsup_mix/mix_125.wav',\n",
       " '/home/ubuntu/DSSGAN/data/train_unsup/unsup_mix/mix_101.wav',\n",
       " '/home/ubuntu/DSSGAN/data/train_unsup/unsup_mix/mix_8.wav',\n",
       " '/home/ubuntu/DSSGAN/data/train_unsup/unsup_mix/mix_63.wav',\n",
       " '/home/ubuntu/DSSGAN/data/train_unsup/unsup_mix/mix_109.wav',\n",
       " '/home/ubuntu/DSSGAN/data/train_unsup/unsup_mix/mix_158.wav',\n",
       " '/home/ubuntu/DSSGAN/data/train_unsup/unsup_mix/mix_76.wav',\n",
       " '/home/ubuntu/DSSGAN/data/train_unsup/unsup_mix/mix_145.wav',\n",
       " '/home/ubuntu/DSSGAN/data/train_unsup/unsup_mix/mix_28.wav',\n",
       " '/home/ubuntu/DSSGAN/data/train_unsup/unsup_mix/mix_161.wav',\n",
       " '/home/ubuntu/DSSGAN/data/train_unsup/unsup_mix/mix_25.wav',\n",
       " '/home/ubuntu/DSSGAN/data/train_unsup/unsup_mix/mix_64.wav',\n",
       " '/home/ubuntu/DSSGAN/data/train_unsup/unsup_mix/mix_21.wav',\n",
       " '/home/ubuntu/DSSGAN/data/train_unsup/unsup_mix/mix_133.wav',\n",
       " '/home/ubuntu/DSSGAN/data/train_unsup/unsup_mix/mix_113.wav',\n",
       " '/home/ubuntu/DSSGAN/data/train_unsup/unsup_mix/mix_98.wav',\n",
       " '/home/ubuntu/DSSGAN/data/train_unsup/unsup_mix/mix_14.wav',\n",
       " '/home/ubuntu/DSSGAN/data/train_unsup/unsup_mix/mix_57.wav',\n",
       " '/home/ubuntu/DSSGAN/data/train_unsup/unsup_mix/mix_103.wav',\n",
       " '/home/ubuntu/DSSGAN/data/train_unsup/unsup_mix/mix_159.wav',\n",
       " '/home/ubuntu/DSSGAN/data/train_unsup/unsup_mix/mix_88.wav',\n",
       " '/home/ubuntu/DSSGAN/data/train_unsup/unsup_mix/mix_147.wav',\n",
       " '/home/ubuntu/DSSGAN/data/train_unsup/unsup_mix/mix_167.wav',\n",
       " '/home/ubuntu/DSSGAN/data/train_unsup/unsup_mix/mix_143.wav',\n",
       " '/home/ubuntu/DSSGAN/data/train_unsup/unsup_mix/mix_81.wav',\n",
       " '/home/ubuntu/DSSGAN/data/train_unsup/unsup_mix/mix_130.wav',\n",
       " '/home/ubuntu/DSSGAN/data/train_unsup/unsup_mix/mix_44.wav',\n",
       " '/home/ubuntu/DSSGAN/data/train_unsup/unsup_mix/mix_29.wav',\n",
       " '/home/ubuntu/DSSGAN/data/train_unsup/unsup_mix/mix_55.wav',\n",
       " '/home/ubuntu/DSSGAN/data/train_unsup/unsup_mix/mix_132.wav',\n",
       " '/home/ubuntu/DSSGAN/data/train_unsup/unsup_mix/mix_126.wav',\n",
       " '/home/ubuntu/DSSGAN/data/train_unsup/unsup_mix/mix_6.wav',\n",
       " '/home/ubuntu/DSSGAN/data/train_unsup/unsup_mix/mix_69.wav',\n",
       " '/home/ubuntu/DSSGAN/data/train_unsup/unsup_mix/mix_74.wav',\n",
       " '/home/ubuntu/DSSGAN/data/train_unsup/unsup_mix/mix_18.wav',\n",
       " '/home/ubuntu/DSSGAN/data/train_unsup/unsup_mix/mix_15.wav',\n",
       " '/home/ubuntu/DSSGAN/data/train_unsup/unsup_mix/mix_96.wav',\n",
       " '/home/ubuntu/DSSGAN/data/train_unsup/unsup_mix/mix_54.wav',\n",
       " '/home/ubuntu/DSSGAN/data/train_unsup/unsup_mix/mix_165.wav',\n",
       " '/home/ubuntu/DSSGAN/data/train_unsup/unsup_mix/mix_104.wav',\n",
       " '/home/ubuntu/DSSGAN/data/train_unsup/unsup_mix/mix_123.wav',\n",
       " '/home/ubuntu/DSSGAN/data/train_unsup/unsup_mix/mix_1.wav',\n",
       " '/home/ubuntu/DSSGAN/data/train_unsup/unsup_mix/mix_148.wav',\n",
       " '/home/ubuntu/DSSGAN/data/train_unsup/unsup_mix/mix_142.wav',\n",
       " '/home/ubuntu/DSSGAN/data/train_unsup/unsup_mix/mix_136.wav',\n",
       " '/home/ubuntu/DSSGAN/data/train_unsup/unsup_mix/mix_26.wav',\n",
       " '/home/ubuntu/DSSGAN/data/train_unsup/unsup_mix/mix_71.wav',\n",
       " '/home/ubuntu/DSSGAN/data/train_unsup/unsup_mix/mix_91.wav',\n",
       " '/home/ubuntu/DSSGAN/data/train_unsup/unsup_mix/mix_135.wav',\n",
       " '/home/ubuntu/DSSGAN/data/train_unsup/unsup_mix/mix_13.wav',\n",
       " '/home/ubuntu/DSSGAN/data/train_unsup/unsup_mix/mix_27.wav',\n",
       " '/home/ubuntu/DSSGAN/data/train_unsup/unsup_mix/mix_97.wav',\n",
       " '/home/ubuntu/DSSGAN/data/train_unsup/unsup_mix/mix_89.wav',\n",
       " '/home/ubuntu/DSSGAN/data/train_unsup/unsup_mix/mix_3.wav',\n",
       " '/home/ubuntu/DSSGAN/data/train_unsup/unsup_mix/mix_41.wav',\n",
       " '/home/ubuntu/DSSGAN/data/train_unsup/unsup_mix/mix_107.wav',\n",
       " '/home/ubuntu/DSSGAN/data/train_unsup/unsup_mix/mix_48.wav',\n",
       " '/home/ubuntu/DSSGAN/data/train_unsup/unsup_mix/mix_60.wav',\n",
       " '/home/ubuntu/DSSGAN/data/train_unsup/unsup_mix/mix_34.wav',\n",
       " '/home/ubuntu/DSSGAN/data/train_unsup/unsup_mix/mix_67.wav',\n",
       " '/home/ubuntu/DSSGAN/data/train_unsup/unsup_mix/mix_151.wav',\n",
       " '/home/ubuntu/DSSGAN/data/train_unsup/unsup_mix/mix_82.wav',\n",
       " '/home/ubuntu/DSSGAN/data/train_unsup/unsup_mix/mix_32.wav',\n",
       " '/home/ubuntu/DSSGAN/data/train_unsup/unsup_mix/mix_169.wav',\n",
       " '/home/ubuntu/DSSGAN/data/train_unsup/unsup_mix/mix_17.wav',\n",
       " '/home/ubuntu/DSSGAN/data/train_unsup/unsup_mix/mix_160.wav',\n",
       " '/home/ubuntu/DSSGAN/data/train_unsup/unsup_mix/mix_11.wav',\n",
       " '/home/ubuntu/DSSGAN/data/train_unsup/unsup_mix/mix_75.wav',\n",
       " '/home/ubuntu/DSSGAN/data/train_unsup/unsup_mix/mix_7.wav',\n",
       " '/home/ubuntu/DSSGAN/data/train_unsup/unsup_mix/mix_121.wav',\n",
       " '/home/ubuntu/DSSGAN/data/train_unsup/unsup_mix/mix_128.wav',\n",
       " '/home/ubuntu/DSSGAN/data/train_unsup/unsup_mix/mix_153.wav',\n",
       " '/home/ubuntu/DSSGAN/data/train_unsup/unsup_mix/mix_16.wav',\n",
       " '/home/ubuntu/DSSGAN/data/train_unsup/unsup_mix/mix_116.wav',\n",
       " '/home/ubuntu/DSSGAN/data/train_unsup/unsup_mix/mix_38.wav',\n",
       " '/home/ubuntu/DSSGAN/data/train_unsup/unsup_mix/mix_120.wav',\n",
       " '/home/ubuntu/DSSGAN/data/train_unsup/unsup_mix/mix_2.wav',\n",
       " '/home/ubuntu/DSSGAN/data/train_unsup/unsup_mix/mix_83.wav',\n",
       " '/home/ubuntu/DSSGAN/data/train_unsup/unsup_mix/mix_12.wav',\n",
       " '/home/ubuntu/DSSGAN/data/train_unsup/unsup_mix/mix_43.wav',\n",
       " '/home/ubuntu/DSSGAN/data/train_unsup/unsup_mix/mix_114.wav',\n",
       " '/home/ubuntu/DSSGAN/data/train_unsup/unsup_mix/mix_166.wav',\n",
       " '/home/ubuntu/DSSGAN/data/train_unsup/unsup_mix/mix_35.wav',\n",
       " '/home/ubuntu/DSSGAN/data/train_unsup/unsup_mix/mix_164.wav',\n",
       " '/home/ubuntu/DSSGAN/data/train_unsup/unsup_mix/mix_171.wav',\n",
       " '/home/ubuntu/DSSGAN/data/train_unsup/unsup_mix/mix_77.mp3',\n",
       " '/home/ubuntu/DSSGAN/data/train_unsup/unsup_mix/mix_33.wav',\n",
       " '/home/ubuntu/DSSGAN/data/train_unsup/unsup_mix/mix_131.wav',\n",
       " '/home/ubuntu/DSSGAN/data/train_unsup/unsup_mix/mix_86.wav',\n",
       " '/home/ubuntu/DSSGAN/data/train_unsup/unsup_mix/mix_31.wav',\n",
       " '/home/ubuntu/DSSGAN/data/train_unsup/unsup_mix/mix_110.wav',\n",
       " '/home/ubuntu/DSSGAN/data/train_unsup/unsup_mix/mix_30.wav',\n",
       " '/home/ubuntu/DSSGAN/data/train_unsup/unsup_mix/mix_173.wav',\n",
       " '/home/ubuntu/DSSGAN/data/train_unsup/unsup_mix/mix_10.wav',\n",
       " '/home/ubuntu/DSSGAN/data/train_unsup/unsup_mix/mix_45.wav',\n",
       " '/home/ubuntu/DSSGAN/data/train_unsup/unsup_mix/mix_129.wav',\n",
       " '/home/ubuntu/DSSGAN/data/train_unsup/unsup_mix/mix_102.wav',\n",
       " '/home/ubuntu/DSSGAN/data/train_unsup/unsup_mix/mix_156.wav',\n",
       " '/home/ubuntu/DSSGAN/data/train_unsup/unsup_mix/mix_78.wav',\n",
       " '/home/ubuntu/DSSGAN/data/train_unsup/unsup_mix/mix_105.wav',\n",
       " '/home/ubuntu/DSSGAN/data/train_unsup/unsup_mix/mix_49.wav',\n",
       " '/home/ubuntu/DSSGAN/data/train_unsup/unsup_mix/mix_152.wav',\n",
       " '/home/ubuntu/DSSGAN/data/train_unsup/unsup_mix/mix_70.wav',\n",
       " '/home/ubuntu/DSSGAN/data/train_unsup/unsup_mix/mix_108.wav',\n",
       " '/home/ubuntu/DSSGAN/data/train_unsup/unsup_mix/mix_111.wav',\n",
       " '/home/ubuntu/DSSGAN/data/train_unsup/unsup_mix/mix_19.wav',\n",
       " '/home/ubuntu/DSSGAN/data/train_unsup/unsup_mix/mix_92.wav',\n",
       " '/home/ubuntu/DSSGAN/data/train_unsup/unsup_mix/mix_73.wav',\n",
       " '/home/ubuntu/DSSGAN/data/train_unsup/unsup_mix/mix_162.wav',\n",
       " '/home/ubuntu/DSSGAN/data/train_unsup/unsup_mix/mix_50.wav',\n",
       " '/home/ubuntu/DSSGAN/data/train_unsup/unsup_mix/mix_140.wav',\n",
       " '/home/ubuntu/DSSGAN/data/train_unsup/unsup_mix/mix_168.wav']"
      ]
     },
     "execution_count": 28,
     "metadata": {},
     "output_type": "execute_result"
    }
   ],
   "source": [
    "unsup_mix_paths"
   ]
  },
  {
   "cell_type": "code",
   "execution_count": 26,
   "metadata": {},
   "outputs": [],
   "source": [
    "# create dataset from filename lists using Sample objects\n",
    "# add_audio() uses librosa which requires python 2.7\n",
    "for path in train_paths:\n",
    "    mix = Sample.from_path(path + '/mix.wav')\n",
    "    drums = Sample.from_path(path + '/drums.wav')\n",
    "    acc = Sample.from_path(path + '/acc.wav')\n",
    "    dataset['train_sup'].append((mix, acc, drums))\n",
    "\n",
    "for path in test_paths:\n",
    "    mix = Sample.from_path(path + '/mix.wav')\n",
    "    drums = Sample.from_path(path + '/drums.wav')\n",
    "    acc = Sample.from_path(path + '/acc.wav')\n",
    "    dataset['test'].append((mix, acc, drums))\n",
    "    \n",
    "for path in valid_paths:\n",
    "    mix = Sample.from_path(path + '/mix.wav')\n",
    "    drums = Sample.from_path(path + '/drums.wav')\n",
    "    acc = Sample.from_path(path + '/acc.wav')\n",
    "    dataset['valid'].append((mix, acc, drums))"
   ]
  },
  {
   "cell_type": "code",
   "execution_count": 29,
   "metadata": {},
   "outputs": [],
   "source": [
    "mix = [Sample.from_path(path) for path in unsup_mix_paths]\n",
    "acc = [Sample.from_path(path) for path in unsup_acc_paths]\n",
    "drums = [Sample.from_path(path) for path in unsup_drums_paths]\n",
    "dataset['train_unsup'] = [mix, acc, drums]\n",
    "\n",
    "    \n",
    "    \n"
   ]
  },
  {
   "cell_type": "code",
   "execution_count": 4,
   "metadata": {},
   "outputs": [
    {
     "data": {
      "text/plain": [
       "'/Users/dfreezy/DSSGAN'"
      ]
     },
     "execution_count": 4,
     "metadata": {},
     "output_type": "execute_result"
    }
   ],
   "source": [
    "\n"
   ]
  },
  {
   "cell_type": "code",
   "execution_count": 35,
   "metadata": {},
   "outputs": [
    {
     "name": "stdout",
     "output_type": "stream",
     "text": [
      "Created dataset structure\n",
      "test: 50\n",
      "valid: 50\n",
      "train_sup: 99\n",
      "train_unsup_mix: 171\n",
      "train_unsup_acc: 180\n",
      "train_unsup_drums: 144\n"
     ]
    }
   ],
   "source": [
    "with open('dataset.pkl', 'wb') as file:\n",
    "    pickle.dump(dataset, file)\n",
    "print(\"Created dataset structure\")\n",
    "print('test: ' + str(len(dataset['test'])))\n",
    "print('valid: ' + str(len(dataset['valid'])))\n",
    "print('train_sup: ' + str(len(dataset['train_sup'])))\n",
    "print('train_unsup_mix: ' + str(len(dataset['train_unsup'][0])))\n",
    "print('train_unsup_acc: ' + str(len(dataset['train_unsup'][1])))\n",
    "print('train_unsup_drums: ' + str(len(dataset['train_unsup'][2])))"
   ]
  },
  {
   "cell_type": "code",
   "execution_count": 33,
   "metadata": {},
   "outputs": [
    {
     "data": {
      "text/plain": [
       "'/home/ubuntu/DSSGAN/data/train_unsup/unsup_mix/mix_80.wav'"
      ]
     },
     "execution_count": 33,
     "metadata": {},
     "output_type": "execute_result"
    }
   ],
   "source": [
    "#dataset['train_sup'][0][0].path\n",
    "dataset['train_unsup'][0][0].path\n",
    "# dataset['train_unsup'][1][-1].path"
   ]
  },
  {
   "cell_type": "code",
   "execution_count": null,
   "metadata": {},
   "outputs": [],
   "source": []
  }
 ],
 "metadata": {
  "kernelspec": {
   "display_name": "Environment (conda_tensorflow_p27)",
   "language": "python",
   "name": "conda_tensorflow_p27"
  },
  "language_info": {
   "codemirror_mode": {
    "name": "ipython",
    "version": 2
   },
   "file_extension": ".py",
   "mimetype": "text/x-python",
   "name": "python",
   "nbconvert_exporter": "python",
   "pygments_lexer": "ipython2",
   "version": "2.7.15"
  }
 },
 "nbformat": 4,
 "nbformat_minor": 2
}
