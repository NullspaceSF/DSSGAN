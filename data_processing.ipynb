{
 "cells": [
  {
   "cell_type": "code",
   "execution_count": 1,
   "metadata": {},
   "outputs": [],
   "source": [
    "import os.path\n",
    "import glob\n",
    "import Input.Input\n",
    "from Sample import Sample\n",
    "import cPickle as pickle\n",
    "import subprocess\n",
    "import os\n",
    "import shutil"
   ]
  },
  {
   "cell_type": "code",
   "execution_count": null,
   "metadata": {},
   "outputs": [],
   "source": [
    "# script for converting native instuments stem format mp4 files into wavs using stem2wav\n",
    "# creates a directory for each filename and places the 5 separated wav files in directory\n",
    "# requires stempeg ---> 'pip install stempeg'\n",
    "\n",
    "\n",
    "path = # '~/data/nistems/acc'\n",
    "files = [name for name in glob.glob(path + '/*')]\n",
    "print(files)\n",
    "for file in files:\n",
    "    newdir = file[31:-9]\n",
    "    print(newdir)\n",
    "    newpath = path + newdir + file[31:]\n",
    "    print(newpath)\n",
    "    if not os.path.exists(path + newdir):\n",
    "        os.makedirs(path + newdir)\n",
    "        subprocess.call('stem2wav ' + file + ' ' + path + newdir, shell=True)"
   ]
  },
  {
   "cell_type": "code",
   "execution_count": null,
   "metadata": {},
   "outputs": [],
   "source": [
    "\n",
    "# Mixes together accompaniment of a stem track into acc.wav for unsup_acc use from original\n",
    "# NI Stems processed with stem2wav and renamed to mix.wav, drums.wav, acc1.wav, acc2.wav, acc3.wav\n",
    "# SETUP: each track must have a directory containing all five wav files as subdirectories of path\n",
    "# named as above\n",
    "# old acc files and the drums and mix files are removed if successful\n",
    "# requires ffmpeg\n",
    "\n",
    "path = '/Users/dfreezy/data/nistems/acc_only'\n",
    "folders = [name for name in glob.glob(path + '/*')]\n",
    "print(files)\n",
    "for folder in folders:\n",
    "    fullpath = path + folder\n",
    "    subprocess.call(\n",
    "        'ffmpeg -i ' + folder + '/acc1.wav -i ' + folder + '/acc2.wav -i ' + folder + \\\n",
    "        '/acc3.wav -filter_complex amix=inputs=3:duration=longest -ac 2 ' + folder + '/acc.wav', shell=True)\n",
    "    if os.path.exists(folder + '/acc.wav'):\n",
    "        subprocess.call('rm ' + folder + '/acc1.wav ' + folder + '/acc2.wav ' + folder + '/acc3.wav ' \\\n",
    "                        + folder + '/drums.wav ' + folder + '/mix.wav', shell=True)\n",
    "    else:\n",
    "        print('File acc.wav was not created in ' + path)\n",
    "\n",
    "    \n",
    "    "
   ]
  },
  {
   "cell_type": "code",
   "execution_count": null,
   "metadata": {},
   "outputs": [],
   "source": [
    "\n",
    "# process nistems for sup\n",
    "# Mixes together accompaniment of a stem track into drums, mix, and acc from original\n",
    "# NI Stems processed with stem2wav and renamed to mix.wav, drums.wav, acc1.wav, acc2.wav, acc3.wav\n",
    "# SETUP: each track must have a directory containing all five wav files as subdirectories of path\n",
    "# named as above\n",
    "# old files are removed if successful\n",
    "# requires ffmpeg\n",
    "\n",
    "path = ''       #data/musdb18/test'\n",
    "folders = [name for name in glob.glob(path + '/*')]\n",
    "print(folders)\n",
    "for folder in folders:\n",
    "    print(folder)\n",
    "    # folder = folder.replace(\" \", \"\\\\ \")  # use for spaces in path\n",
    "    subprocess.call(\n",
    "        'ffmpeg -i ' + folder + '/acc1.wav -i ' + folder + '/acc2.wav -i ' + folder + \\\n",
    "        '/acc3.wav -filter_complex amix=inputs=3:duration=longest -ac 2 ' + folder + '/acc.wav', shell=True)\n",
    "    if os.path.exists(folder + '/acc.wav'):\n",
    "        subprocess.call('rm ' + folder + '/acc1.wav ' + folder + '/acc2.wav ' + folder + '/acc3.wav', shell=True)\n",
    "    else:\n",
    "        print('File acc.wav was not created in ' + path)\n",
    "\n",
    "    "
   ]
  },
  {
   "cell_type": "code",
   "execution_count": 12,
   "metadata": {
    "collapsed": true
   },
   "outputs": [
    {
     "name": "stdout",
     "output_type": "stream",
     "text": [
      "['/Users/dfreezy/data/musdb18/train/The Districts - Vermont', '/Users/dfreezy/data/musdb18/train/BigTroubles - Phantom', '/Users/dfreezy/data/musdb18/train/Music Delta - Rockabilly', '/Users/dfreezy/data/musdb18/train/Johnny Lokke - Promises & Lies', '/Users/dfreezy/data/musdb18/train/Hezekiah Jones - Borrowed Heart', '/Users/dfreezy/data/musdb18/train/Steven Clark - Bounty', '/Users/dfreezy/data/musdb18/train/Young Griffo - Pennies', \"/Users/dfreezy/data/musdb18/train/Phre The Eon - Everybody's Falling Apart\", '/Users/dfreezy/data/musdb18/train/Music Delta - Gospel', '/Users/dfreezy/data/musdb18/train/Remember December - C U Next Time', '/Users/dfreezy/data/musdb18/train/Actions - South Of The Water', '/Users/dfreezy/data/musdb18/train/Jokers, Jacks & Kings - Sea Of Leaves', '/Users/dfreezy/data/musdb18/train/Alexander Ross - Velvet Curtain', '/Users/dfreezy/data/musdb18/train/Alexander Ross - Goodbye Bolero', '/Users/dfreezy/data/musdb18/train/Black Bloc - If You Want Success', '/Users/dfreezy/data/musdb18/train/Clara Berry And Wooldog - Air Traffic', '/Users/dfreezy/data/musdb18/train/Secret Mountains - High Horse', '/Users/dfreezy/data/musdb18/train/Fergessen - The Wind', '/Users/dfreezy/data/musdb18/train/Triviul - Dorothy', '/Users/dfreezy/data/musdb18/train/Titanium - Haunted Age', \"/Users/dfreezy/data/musdb18/train/The Wrong'Uns - Rothko\", '/Users/dfreezy/data/musdb18/train/Fergessen - Back From The Start', '/Users/dfreezy/data/musdb18/train/Young Griffo - Facade', '/Users/dfreezy/data/musdb18/train/A Classic Education - NightOwl', '/Users/dfreezy/data/musdb18/train/Wall Of Death - Femme', '/Users/dfreezy/data/musdb18/train/The So So Glos - Emergency', '/Users/dfreezy/data/musdb18/train/Celestial Shore - Die For Us', '/Users/dfreezy/data/musdb18/train/Patrick Talbot - A Reason To Leave', '/Users/dfreezy/data/musdb18/train/Auctioneer - Our Future Faces', '/Users/dfreezy/data/musdb18/train/Dark Ride - Burning Bridges', '/Users/dfreezy/data/musdb18/train/Music Delta - Rock', '/Users/dfreezy/data/musdb18/train/Aimee Norwich - Child', '/Users/dfreezy/data/musdb18/train/Dreamers Of The Ghetto - Heavy Love', '/Users/dfreezy/data/musdb18/train/Clara Berry And Wooldog - Waltz For My Victims', '/Users/dfreezy/data/musdb18/train/Clara Berry And Wooldog - Stella', '/Users/dfreezy/data/musdb18/train/Young Griffo - Blood To Bone', '/Users/dfreezy/data/musdb18/train/Chris Durban - Celebrate', '/Users/dfreezy/data/musdb18/train/Music Delta - Grunge', '/Users/dfreezy/data/musdb18/train/Music Delta - Punk', '/Users/dfreezy/data/musdb18/train/Meaxic - Take A Step', '/Users/dfreezy/data/musdb18/train/ANiMAL - Clinic A', '/Users/dfreezy/data/musdb18/train/Drumtracks - Ghost Bitch', '/Users/dfreezy/data/musdb18/train/Grants - PunchDrunk', '/Users/dfreezy/data/musdb18/train/Strand Of Oaks - Spacestation', '/Users/dfreezy/data/musdb18/train/James May - All Souls Moon', '/Users/dfreezy/data/musdb18/train/Hollow Ground - Left Blind', '/Users/dfreezy/data/musdb18/train/Atlantis Bound - It Was My Fault For Waiting', '/Users/dfreezy/data/musdb18/train/Music Delta - Country2', '/Users/dfreezy/data/musdb18/train/Music Delta - Hendrix', '/Users/dfreezy/data/musdb18/train/Traffic Experiment - Once More (With Feeling)', '/Users/dfreezy/data/musdb18/train/Music Delta - Beatles', '/Users/dfreezy/data/musdb18/train/AvaLuna - Waterduct', '/Users/dfreezy/data/musdb18/train/Angela Thomas Wade - Milk Cow Blues', '/Users/dfreezy/data/musdb18/train/Music Delta - Disco', '/Users/dfreezy/data/musdb18/train/Faces On Film - Waiting For Ga', '/Users/dfreezy/data/musdb18/train/Night Panther - Fire', \"/Users/dfreezy/data/musdb18/train/Spike Mullings - Mike's Sulking\", '/Users/dfreezy/data/musdb18/train/Bill Chudziak - Children Of No-one', '/Users/dfreezy/data/musdb18/train/North To Alaska - All The Same', '/Users/dfreezy/data/musdb18/train/Skelpolu - Human Mistakes', '/Users/dfreezy/data/musdb18/train/Triviul - Angelsaint', '/Users/dfreezy/data/musdb18/train/Port St Willow - Stay Even', '/Users/dfreezy/data/musdb18/train/Leaf - Summerghost', '/Users/dfreezy/data/musdb18/train/Leaf - Come Around', '/Users/dfreezy/data/musdb18/train/Leaf - Wicked', '/Users/dfreezy/data/musdb18/train/Lushlife - Toynbee Suite', '/Users/dfreezy/data/musdb18/train/Traffic Experiment - Sirens', '/Users/dfreezy/data/musdb18/train/Cnoc An Tursa - Bannockburn', '/Users/dfreezy/data/musdb18/train/Hop Along - Sister Cities', '/Users/dfreezy/data/musdb18/train/Sweet Lights - You Let Me Down', '/Users/dfreezy/data/musdb18/train/Snowmine - Curfews', '/Users/dfreezy/data/musdb18/train/The Scarlet Brand - Les Fleurs Du Mal', '/Users/dfreezy/data/musdb18/train/Voelund - Comfort Lives In Belief', '/Users/dfreezy/data/musdb18/train/Swinging Steaks - Lost My Way', '/Users/dfreezy/data/musdb18/train/Meaxic - You Listen', '/Users/dfreezy/data/musdb18/train/Patrick Talbot - Set Me Free', '/Users/dfreezy/data/musdb18/train/Jay Menon - Through My Eyes', '/Users/dfreezy/data/musdb18/train/ANiMAL - Rockshow', '/Users/dfreezy/data/musdb18/train/Flags - 54', '/Users/dfreezy/data/musdb18/train/Skelpolu - Together Alone', '/Users/dfreezy/data/musdb18/train/Fergessen - Nos Palpitants', '/Users/dfreezy/data/musdb18/train/Giselle - Moss', '/Users/dfreezy/data/musdb18/train/The Long Wait - Back Home To Blue', '/Users/dfreezy/data/musdb18/train/James May - On The Line', '/Users/dfreezy/data/musdb18/train/James May - If You Say', \"/Users/dfreezy/data/musdb18/train/Actions - Devil's Words\", '/Users/dfreezy/data/musdb18/train/Music Delta - Reggae', '/Users/dfreezy/data/musdb18/train/James May - Dont Let Go', '/Users/dfreezy/data/musdb18/train/Music Delta - Britpop', '/Users/dfreezy/data/musdb18/train/Tim Taler - Stalker', '/Users/dfreezy/data/musdb18/train/ANiMAL - Easy Tiger', '/Users/dfreezy/data/musdb18/train/Music Delta - 80s Rock', '/Users/dfreezy/data/musdb18/train/Actions - One Minute Smile', '/Users/dfreezy/data/musdb18/train/St Vitus - Word Gets Around', '/Users/dfreezy/data/musdb18/train/Music Delta - Country1', '/Users/dfreezy/data/musdb18/train/Helado Negro - Mitad Del Mundo', '/Users/dfreezy/data/musdb18/train/Creepoid - OldTree', '/Users/dfreezy/data/musdb18/train/Johnny Lokke - Whisper To A Scream', '/Users/dfreezy/data/musdb18/train/Invisible Familiars - Disturbing Wildlife', '/Users/dfreezy/data/musdb18/train/Matthew Entwistle - Dont You Ever']\n",
      "['/Users/dfreezy/data/musdb18/test/Moosmusic - Big Dummy Shake', '/Users/dfreezy/data/musdb18/test/The Mountaineering Club - Mallory', '/Users/dfreezy/data/musdb18/test/Bobby Nobody - Stitch Up', '/Users/dfreezy/data/musdb18/test/Punkdisco - Oral Hygiene', '/Users/dfreezy/data/musdb18/test/Lyndsey Ollard - Catching Up', '/Users/dfreezy/data/musdb18/test/Al James - Schoolboy Facination', '/Users/dfreezy/data/musdb18/test/James Elder & Mark M Thompson - The English Actor', \"/Users/dfreezy/data/musdb18/test/Juliet's Rescue - Heartbeats\", '/Users/dfreezy/data/musdb18/test/The Easton Ellises - Falcon 69', '/Users/dfreezy/data/musdb18/test/Secretariat - Borderline', '/Users/dfreezy/data/musdb18/test/The Long Wait - Dark Horses', '/Users/dfreezy/data/musdb18/test/Sambasevam Shanmugam - Kaathaadi', '/Users/dfreezy/data/musdb18/test/Signe Jakobsen - What Have You Done To Me', '/Users/dfreezy/data/musdb18/test/Girls Under Glass - We Feel Alright', '/Users/dfreezy/data/musdb18/test/Mu - Too Bright', '/Users/dfreezy/data/musdb18/test/Speak Softly - Broken Man', '/Users/dfreezy/data/musdb18/test/Georgia Wonder - Siren', '/Users/dfreezy/data/musdb18/test/Arise - Run Run Run', '/Users/dfreezy/data/musdb18/test/Raft Monk - Tiring', '/Users/dfreezy/data/musdb18/test/M.E.R.C. Music - Knockout', '/Users/dfreezy/data/musdb18/test/Triviul feat. The Fiend - Widow', '/Users/dfreezy/data/musdb18/test/Tom McKenzie - Directions', '/Users/dfreezy/data/musdb18/test/Timboz - Pony', '/Users/dfreezy/data/musdb18/test/BKS - Bulldozer', '/Users/dfreezy/data/musdb18/test/The Sunshine Garcia Band - For I Am The Moon', '/Users/dfreezy/data/musdb18/test/The Easton Ellises (Baumi) - SDRNR', '/Users/dfreezy/data/musdb18/test/AM Contra - Heart Peripheral', '/Users/dfreezy/data/musdb18/test/The Doppler Shift - Atrophy', '/Users/dfreezy/data/musdb18/test/Motor Tapes - Shore', '/Users/dfreezy/data/musdb18/test/Detsky Sad - Walkie Talkie', '/Users/dfreezy/data/musdb18/test/Buitraker - Revo X', \"/Users/dfreezy/data/musdb18/test/Little Chicago's Finest - My Own\", '/Users/dfreezy/data/musdb18/test/Zeno - Signs', '/Users/dfreezy/data/musdb18/test/Hollow Ground - Ill Fate', '/Users/dfreezy/data/musdb18/test/Cristina Vane - So Easy', '/Users/dfreezy/data/musdb18/test/Speak Softly - Like Horses', '/Users/dfreezy/data/musdb18/test/Side Effects Project - Sing With Me', '/Users/dfreezy/data/musdb18/test/Skelpolu - Resurrection', '/Users/dfreezy/data/musdb18/test/Nerve 9 - Pray For The Rain', '/Users/dfreezy/data/musdb18/test/Louis Cressy Band - Good Time', \"/Users/dfreezy/data/musdb18/test/Angels In Amplifiers - I'm Alright\", \"/Users/dfreezy/data/musdb18/test/Ben Carrigan - We'll Talk About It All Tonight\", '/Users/dfreezy/data/musdb18/test/BKS - Too Much', '/Users/dfreezy/data/musdb18/test/Carlos Gonzalez - A Place For Us', '/Users/dfreezy/data/musdb18/test/Secretariat - Over The Top', '/Users/dfreezy/data/musdb18/test/We Fell From The Sky - Not You', '/Users/dfreezy/data/musdb18/test/Enda Reilly - Cur An Long Ag Seol', '/Users/dfreezy/data/musdb18/test/Forkupines - Semantics', '/Users/dfreezy/data/musdb18/test/PR - Happy Daze', '/Users/dfreezy/data/musdb18/test/PR - Oh No']\n",
      "['/Users/dfreezy/data/nistems/sup/VH_Blith.stem.mp4', '/Users/dfreezy/data/nistems/sup/NR_Trovinsky.stem.mp4', '/Users/dfreezy/data/nistems/sup/PH_Hornet2000.stem.mp4', '/Users/dfreezy/data/nistems/sup/AFL_ShadowGaze.stem.mp4', '/Users/dfreezy/data/nistems/sup/TS_SlowPush.stem.mp4', '/Users/dfreezy/data/nistems/sup/LD_OldMoney.stem.mp4', '/Users/dfreezy/data/nistems/sup/RB_NoGravity.stem.mp4', '/Users/dfreezy/data/nistems/sup/AF_Stacks.stem.mp4', '/Users/dfreezy/data/nistems/sup/GF_LoftArabica.stem.mp4', '/Users/dfreezy/data/nistems/sup/CG_JaesGroove.stem.mp4', '/Users/dfreezy/data/nistems/sup/CG_AmplifiedSpace.stem.mp4', '/Users/dfreezy/data/nistems/sup/GK_LightsOut.stem.mp4', '/Users/dfreezy/data/nistems/sup/CC_GrainyDub.stem.mp4', '/Users/dfreezy/data/nistems/sup/PR_ThisFeeling.stem.mp4', '/Users/dfreezy/data/nistems/sup/RB_MysticTemple.stem.mp4', '/Users/dfreezy/data/nistems/sup/MH_HoldUp.stem.mp4', '/Users/dfreezy/data/nistems/sup/LM_MelbourneSlam.stem.mp4', '/Users/dfreezy/data/nistems/sup/NR_HotToddy.stem.mp4', '/Users/dfreezy/data/nistems/sup/PR_OhNo.stem.mp4', '/Users/dfreezy/data/nistems/sup/TP_TheDeep.stem.mp4', '/Users/dfreezy/data/nistems/sup/SF_RadioDubMix.stem.mp4', '/Users/dfreezy/data/nistems/sup/AA_ArtificialIntelligence.stem.mp4', '/Users/dfreezy/data/nistems/sup/LM_StockholmSyndrome.stem.mp4', '/Users/dfreezy/data/nistems/sup/GK_GroundZero.stem.mp4', '/Users/dfreezy/data/nistems/sup/HS_Koronium5.stem.mp4', '/Users/dfreezy/data/nistems/sup/RB_TheResident.stem.mp4', '/Users/dfreezy/data/nistems/sup/NR_FeverLine.stem.mp4', '/Users/dfreezy/data/nistems/sup/HR_StutterStep.stem.mp4', '/Users/dfreezy/data/nistems/sup/PR_HappyDaze.stem.mp4', '/Users/dfreezy/data/nistems/sup/HR_WaterSigns.stem.mp4', '/Users/dfreezy/data/nistems/sup/CC_Melodisto.stem.mp4', '/Users/dfreezy/data/nistems/sup/RW_Zarad.stem.mp4', '/Users/dfreezy/data/nistems/sup/AFL_StarryMonkey.stem.mp4', '/Users/dfreezy/data/nistems/sup/VH_SpaceBlapz.stem.mp4', '/Users/dfreezy/data/nistems/sup/PB_Salute.stem.mp4', '/Users/dfreezy/data/nistems/sup/TS_SupremeDialogue.stem.mp4', '/Users/dfreezy/data/nistems/sup/DS_JellyBelly.stem.mp4']\n",
      "['/Users/dfreezy/data/nistems/drums_only/PH_I-40.stem.mp4', '/Users/dfreezy/data/nistems/drums_only/GF_Transatlantic.stem.mp4', '/Users/dfreezy/data/nistems/drums_only/LD_Loaded.stem.mp4', '/Users/dfreezy/data/nistems/drums_only/SF_StaticMagnetic.stem.mp4', '/Users/dfreezy/data/nistems/drums_only/CH_Talisman.stem.mp4']\n",
      "['/Users/dfreezy/data/nistems/acc_only/DS_SteppasDelight.stem.mp4', '/Users/dfreezy/data/nistems/acc_only/RW_FromDubTillDawn.stem.mp4', '/Users/dfreezy/data/nistems/acc_only/PW_JackiesGarage.stem.mp4', '/Users/dfreezy/data/nistems/acc_only/PB_HittinHard.stem.mp4', '/Users/dfreezy/data/nistems/acc_only/DS_DropNoir.stem.mp4', '/Users/dfreezy/data/nistems/acc_only/AF_GetLowDown.stem.mp4', '/Users/dfreezy/data/nistems/acc_only/LD_Monstaclat.stem.mp4', '/Users/dfreezy/data/nistems/acc_only/MR_Gangstawalk.stem.mp4', '/Users/dfreezy/data/nistems/acc_only/CH_WallOfWonder.stem.mp4', '/Users/dfreezy/data/nistems/acc_only/EV_ThinkComplex.stem.mp4']\n"
     ]
    }
   ],
   "source": [
    "#get list of paths to wav files. musdb18 DB must already be converted using MUSDB docker tool\n",
    "# data should be in this format:\n",
    "# ├── test     # one folder for each track with 3 files mix.wav, drums.wav, and acc.wav\n",
    "# ├── train    # one folder for each track with 3 files mix.wav, drums.wav, and acc.wav\n",
    "# ├── valid    # one folder for each track with 3 files mix.wav, drums.wav, and acc.wav\n",
    "# └── train_unsup   # three folders unsup_acc, unsup_drums, unsup_mix. each with numbered\n",
    "                    # files, ex. acc_1.wav, mix_34.wav, ect in the respective folders\n",
    "\n",
    "path = '/Users/ubuntu/data' #set to musdb18 path\n",
    "train_paths = [name for name in glob.glob(path + '/train/*')]\n",
    "test_paths = [name for name in glob.glob(path + '/test/*')]\n",
    "valid_paths = [name for name in glob.glob(path + '/valid/*')]\n",
    "unsup_drums_paths = [name for name in glob.glob(path + '/train_unsup/unsup_drums/*')]\n",
    "unsup_mix_paths = [name for name in glob.glob(path + '/train_unsup/unsup_mix/*')]\n",
    "unsup_acc_paths = [name for name in glob.glob(path + '/train_unsup/unsup_acc/*')]\n"
   ]
  },
  {
   "cell_type": "code",
   "execution_count": 8,
   "metadata": {},
   "outputs": [
    {
     "name": "stdout",
     "output_type": "stream",
     "text": [
      "test\n"
     ]
    }
   ],
   "source": [
    "dataset = dict()\n",
    "dataset[\"train_sup\"] = [] # [list of tuples containing sample oblects (mix, acc, drums)]\n",
    "dataset[\"train_unsup\"] = [] # Initialise unsupervised dataset [[mix_samples], [acc_samples], [drums]]\n",
    "dataset[\"valid\"] = [] # list of tuples containing sample oblects (mix, acc, drums)\n",
    "dataset[\"test\"] = [] # list of tuples containing sample oblects (mix, acc, drums)"
   ]
  },
  {
   "cell_type": "code",
   "execution_count": null,
   "metadata": {},
   "outputs": [],
   "source": [
    "# create dataset from filename lists using Sample objects\n",
    "# add_audio() uses librosa which requires python 2.7\n",
    "for path in train_paths:\n",
    "    mix = Sample.from_path(path + '/mix.wav')\n",
    "    drums = Sample.from_path(path + '/drums.wav')\n",
    "    acc = Sample.from_path(path + '/acc.wav')\n",
    "    dataset['train_sup'].append((mix, acc, drums))\n",
    "\n",
    "for path in test_paths:\n",
    "    mix = Sample.from_path(path + '/mix.wav')\n",
    "    drums = Sample.from_path(path + '/drums.wav')\n",
    "    acc = Sample.from_path(path + '/acc.wav')\n",
    "    dataset['test'].append((mix, acc, drums))\n",
    "    \n",
    "for path in valid_paths:\n",
    "    mix = Sample.from_path(path + '/mix.wav')\n",
    "    drums = Sample.from_path(path + '/drums.wav')\n",
    "    acc = Sample.from_path(path + '/acc.wav')\n",
    "    dataset['valid'].append((mix, acc, drums))"
   ]
  },
  {
   "cell_type": "code",
   "execution_count": null,
   "metadata": {},
   "outputs": [],
   "source": [
    "mix = [Sample.from_path(path + '/mix.wav') for path in unsup_mix_paths]\n",
    "acc = [Sample.from_path(path + '/acc.wav') for path in unsup_acc_paths]\n",
    "drums = [Sample.from_path(path + '/drums.wav') for path in unsup_drums_paths]\n",
    "dataset['train_unsup'] = [mix, acc, drums]\n",
    "\n",
    "    \n",
    "    \n"
   ]
  },
  {
   "cell_type": "code",
   "execution_count": 4,
   "metadata": {},
   "outputs": [
    {
     "data": {
      "text/plain": [
       "'/Users/dfreezy/DSSGAN'"
      ]
     },
     "execution_count": 4,
     "metadata": {},
     "output_type": "execute_result"
    }
   ],
   "source": [
    "\n"
   ]
  },
  {
   "cell_type": "code",
   "execution_count": 5,
   "metadata": {},
   "outputs": [],
   "source": [
    "with open('dataset.pkl', 'wb') as file:\n",
    "    pickle.dump(dataset, file)\n",
    "print(\"Created dataset structure\")\n",
    "print('test: ' + str(len(dataset['test'])\n",
    "print('valid: ' + str(len(dataset['valid'])\n",
    "print('train_sup: ' + str(len(dataset['train_sup'])\n",
    "print('train_unsup_mix: ' + str(len(dataset['train_unsup'][0])\n",
    "print('train_unsup_acc: ' + str(len(dataset['train_unsup'][1])\n",
    "print('train_unsup_drums: ' + str(len(dataset['train_unsup'][2])"
   ]
  },
  {
   "cell_type": "code",
   "execution_count": null,
   "metadata": {},
   "outputs": [],
   "source": [
    "dataset['train_sup'][0][0].path\n",
    "dataset['train_unsup'][0][0].path\n",
    "dataset['train_unsup'][1][-1].path"
   ]
  }
 ],
 "metadata": {
  "kernelspec": {
   "display_name": "Python 3",
   "language": "python",
   "name": "python3"
  },
  "language_info": {
   "codemirror_mode": {
    "name": "ipython",
    "version": 3
   },
   "file_extension": ".py",
   "mimetype": "text/x-python",
   "name": "python",
   "nbconvert_exporter": "python",
   "pygments_lexer": "ipython3",
   "version": "3.6.5"
  }
 },
 "nbformat": 4,
 "nbformat_minor": 2
}
